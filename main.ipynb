{
 "cells": [
  {
   "metadata": {
    "ExecuteTime": {
     "end_time": "2025-04-09T17:27:18.338943Z",
     "start_time": "2025-04-09T17:27:18.034532Z"
    }
   },
   "cell_type": "code",
   "source": "from  pyspark.sql import SparkSession",
   "id": "1e11a54565233aea",
   "outputs": [],
   "execution_count": 1
  },
  {
   "metadata": {
    "ExecuteTime": {
     "end_time": "2025-04-09T17:28:02.276512Z",
     "start_time": "2025-04-09T17:27:57.173089Z"
    }
   },
   "cell_type": "code",
   "source": "spark=SparkSession.builder.appName(\"data\").master(\"local[1]\").getOrCreate()",
   "id": "ebffdb1c9d66255d",
   "outputs": [],
   "execution_count": 2
  },
  {
   "metadata": {
    "ExecuteTime": {
     "end_time": "2025-04-09T17:28:12.556152Z",
     "start_time": "2025-04-09T17:28:12.492981Z"
    }
   },
   "cell_type": "code",
   "source": "spark",
   "id": "8f93f75c17d43d5d",
   "outputs": [
    {
     "data": {
      "text/plain": [
       "<pyspark.sql.session.SparkSession at 0x1931f0aa310>"
      ],
      "text/html": [
       "\n",
       "            <div>\n",
       "                <p><b>SparkSession - in-memory</b></p>\n",
       "                \n",
       "        <div>\n",
       "            <p><b>SparkContext</b></p>\n",
       "\n",
       "            <p><a href=\"http://host.docker.internal:4041\">Spark UI</a></p>\n",
       "\n",
       "            <dl>\n",
       "              <dt>Version</dt>\n",
       "                <dd><code>v3.5.2</code></dd>\n",
       "              <dt>Master</dt>\n",
       "                <dd><code>local[1]</code></dd>\n",
       "              <dt>AppName</dt>\n",
       "                <dd><code>data</code></dd>\n",
       "            </dl>\n",
       "        </div>\n",
       "        \n",
       "            </div>\n",
       "        "
      ]
     },
     "execution_count": 4,
     "metadata": {},
     "output_type": "execute_result"
    }
   ],
   "execution_count": 4
  },
  {
   "metadata": {
    "ExecuteTime": {
     "end_time": "2025-04-09T17:28:10.187804Z",
     "start_time": "2025-04-09T17:28:04.818028Z"
    }
   },
   "cell_type": "code",
   "source": [
    "data=[\n",
    "    (\"abc\",\"abc\",\"abc\",\"abc\",\"abc\",\"abc\"),\n",
    "        (\"abc\",\"abc\",\"abc\",\"abc\",\"abc\",\"abc\")\n",
    ",    (\"abc\",\"abc\",\"abc\",\"abc\",\"abc\",\"abc\")\n",
    ",    (\"abc\",\"abc\",\"abc\",\"abc\",\"abc\",\"abc\")\n",
    ",    (\"abc\",\"abc\",\"abc\",\"abc\",\"abc\",\"abc\")\n",
    "\n",
    "]\n",
    "\n",
    "dataset= spark.createDataFrame(data,[\"name\",\"age\",\"gender\",\"city\",\"state\"])\n",
    "# dataset.collect()"
   ],
   "id": "4fd59a5462d6d83d",
   "outputs": [],
   "execution_count": 3
  },
  {
   "metadata": {
    "ExecuteTime": {
     "end_time": "2025-04-09T17:28:41.462423Z",
     "start_time": "2025-04-09T17:28:38.454691Z"
    }
   },
   "cell_type": "code",
   "source": "dataset.collect()",
   "id": "4e7e98e59a4d0ab1",
   "outputs": [
    {
     "data": {
      "text/plain": [
       "[Row(name='abc', age='abc', gender='abc', city='abc', state='abc', _6='abc'),\n",
       " Row(name='abc', age='abc', gender='abc', city='abc', state='abc', _6='abc'),\n",
       " Row(name='abc', age='abc', gender='abc', city='abc', state='abc', _6='abc'),\n",
       " Row(name='abc', age='abc', gender='abc', city='abc', state='abc', _6='abc'),\n",
       " Row(name='abc', age='abc', gender='abc', city='abc', state='abc', _6='abc')]"
      ]
     },
     "execution_count": 5,
     "metadata": {},
     "output_type": "execute_result"
    }
   ],
   "execution_count": 5
  }
 ],
 "metadata": {},
 "nbformat": 4,
 "nbformat_minor": 5
}
